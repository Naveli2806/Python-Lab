{
 "cells": [
  {
   "cell_type": "code",
   "execution_count": 1,
   "id": "c6003b79-5e4f-4442-9b87-0947e39009e6",
   "metadata": {},
   "outputs": [
    {
     "name": "stdout",
     "output_type": "stream",
     "text": [
      "[3, 6, 9, 12, 15]\n"
     ]
    }
   ],
   "source": [
    "def triple(x):\n",
    "    return x * 3\n",
    "numbers = [1, 2, 3, 4, 5]\n",
    "tripled_numbers = list(map(triple, numbers))\n",
    "print(tripled_numbers)"
   ]
  },
  {
   "cell_type": "code",
   "execution_count": 5,
   "id": "f97377e3-9e80-401c-9869-94d65a299f08",
   "metadata": {},
   "outputs": [
    {
     "name": "stdin",
     "output_type": "stream",
     "text": [
      "Enter numbers for list 1 (separated by spaces):  1 2 3 \n",
      "Enter numbers for list 2 (separated by spaces):  45 6 3 \n",
      "Enter numbers for list 3 (separated by spaces):  7 8 0\n"
     ]
    },
    {
     "name": "stdout",
     "output_type": "stream",
     "text": [
      "Resultant list: [53, 16, 6]\n"
     ]
    }
   ],
   "source": [
    "def input_list(num):\n",
    "    return list(map(int, input(num).split()))\n",
    "list1 = input_list(\"Enter numbers for list 1 (separated by spaces): \")\n",
    "list2 = input_list(\"Enter numbers for list 2 (separated by spaces): \")\n",
    "list3 = input_list(\"Enter numbers for list 3 (separated by spaces): \")\n",
    "result = list(map(lambda x, y, z: x + y + z, list1, list2, list3))\n",
    "print(\"Resultant list:\", result)"
   ]
  },
  {
   "cell_type": "code",
   "execution_count": 9,
   "id": "8d3d6037-7a04-42c5-9031-c318d86b444d",
   "metadata": {},
   "outputs": [
    {
     "name": "stdin",
     "output_type": "stream",
     "text": [
      "Enter strings:  hello\n"
     ]
    },
    {
     "name": "stdout",
     "output_type": "stream",
     "text": [
      "Listified strings: [['h', 'e', 'l', 'l', 'o']]\n"
     ]
    }
   ],
   "source": [
    "def input_strings(letter):\n",
    "    return input(letter).split()\n",
    "strings = input_strings(\"Enter strings: \")\n",
    "listified_strings = list(map(lambda s: list(s), strings))\n",
    "print(\"Listified strings:\", listified_strings)\n"
   ]
  },
  {
   "cell_type": "code",
   "execution_count": 11,
   "id": "3cc22d91-4a88-4d89-8bef-f3beea7f1027",
   "metadata": {},
   "outputs": [
    {
     "name": "stdin",
     "output_type": "stream",
     "text": [
      "Enter numbers:  23\n"
     ]
    },
    {
     "name": "stdout",
     "output_type": "stream",
     "text": [
      "Squared numbers: [529]\n"
     ]
    }
   ],
   "source": [
    "def input_list(num):\n",
    "    return list(map(int, input(num).split()))\n",
    "numbers = input_list(\"Enter numbers: \")\n",
    "squared_numbers = list(map(lambda x: x ** 2, numbers))\n",
    "print(\"Squared numbers:\", squared_numbers)"
   ]
  },
  {
   "cell_type": "code",
   "execution_count": 13,
   "id": "8b327205-d4f6-45d8-9a1f-ee20a9b58ba7",
   "metadata": {},
   "outputs": [
    {
     "name": "stdin",
     "output_type": "stream",
     "text": [
      "Enter a string:  hello\n"
     ]
    },
    {
     "name": "stdout",
     "output_type": "stream",
     "text": [
      "Uppercase characters: EHLO\n",
      "Lowercase characters: ehlo\n"
     ]
    }
   ],
   "source": [
    "def input_string(prompt):\n",
    "    return input(prompt)\n",
    "user_input = input_string(\"Enter a string: \")\n",
    "unique_characters = set(user_input)\n",
    "sorted_unique_characters = sorted(unique_characters)\n",
    "uppercase_characters = list(map(lambda x: x.upper(), sorted_unique_characters))\n",
    "lowercase_characters = list(map(lambda x: x.lower(), sorted_unique_characters))\n",
    "print(\"Uppercase characters:\", ''.join(uppercase_characters))\n",
    "print(\"Lowercase characters:\", ''.join(lowercase_characters))"
   ]
  },
  {
   "cell_type": "code",
   "execution_count": null,
   "id": "a061087f-c5bf-4378-96de-ffeedd51974a",
   "metadata": {},
   "outputs": [],
   "source": []
  }
 ],
 "metadata": {
  "kernelspec": {
   "display_name": "Python 3 (ipykernel)",
   "language": "python",
   "name": "python3"
  },
  "language_info": {
   "codemirror_mode": {
    "name": "ipython",
    "version": 3
   },
   "file_extension": ".py",
   "mimetype": "text/x-python",
   "name": "python",
   "nbconvert_exporter": "python",
   "pygments_lexer": "ipython3",
   "version": "3.12.4"
  }
 },
 "nbformat": 4,
 "nbformat_minor": 5
}
