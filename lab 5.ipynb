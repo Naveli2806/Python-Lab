{
 "cells": [
  {
   "cell_type": "code",
   "execution_count": 1,
   "id": "74329f55-bbcb-4b3c-9e44-2c68a5ec29a0",
   "metadata": {},
   "outputs": [
    {
     "name": "stdout",
     "output_type": "stream",
     "text": [
      "[3, 6, 9, 12, 15]\n"
     ]
    }
   ],
   "source": [
    "def triple(x):\n",
    "    return x * 3\n",
    "numbers = [1, 2, 3, 4, 5]\n",
    "tripled_numbers = list(map(triple, numbers))\n",
    "print(tripled_numbers)"
   ]
  },
  {
   "cell_type": "code",
   "execution_count": 4,
   "id": "7d8da04c-ff68-4680-83ba-d8044f8b551a",
   "metadata": {},
   "outputs": [
    {
     "name": "stdin",
     "output_type": "stream",
     "text": [
      "Enter numbers for list 1 (separated by spaces):  2 3 4\n",
      "Enter numbers for list 2 (separated by spaces):  5 6 7\n",
      "Enter numbers for list 3 (separated by spaces):  4 6 8\n"
     ]
    },
    {
     "name": "stdout",
     "output_type": "stream",
     "text": [
      "Resultant list: [11, 15, 19]\n"
     ]
    }
   ],
   "source": [
    "def input_list(num):\n",
    "    return list(map(int, input(num).split()))\n",
    "list1 = input_list(\"Enter numbers for list 1 (separated by spaces): \")\n",
    "list2 = input_list(\"Enter numbers for list 2 (separated by spaces): \")\n",
    "list3 = input_list(\"Enter numbers for list 3 (separated by spaces): \")\n",
    "result = list(map(lambda x, y, z: x + y + z, list1, list2, list3))\n",
    "print(\"Resultant list:\", result)"
   ]
  },
  {
   "cell_type": "code",
   "execution_count": 3,
   "id": "de6b52a8-cf59-426c-83b1-f5ccf25e8c82",
   "metadata": {},
   "outputs": [
    {
     "name": "stdin",
     "output_type": "stream",
     "text": [
      "Enter strings:  hello\n"
     ]
    },
    {
     "name": "stdout",
     "output_type": "stream",
     "text": [
      "Listified strings: [['h', 'e', 'l', 'l', 'o']]\n"
     ]
    }
   ],
   "source": [
    "def input_strings(letter):\n",
    "    return input(letter).split()\n",
    "strings = input_strings(\"Enter strings: \")\n",
    "listified_strings = list(map(lambda s: list(s), strings))\n",
    "print(\"Listified strings:\", listified_strings)\n"
   ]
  },
  {
   "cell_type": "code",
   "execution_count": 5,
   "id": "b7c9930d-fa1c-4195-bb64-f9c67b5c1886",
   "metadata": {},
   "outputs": [
    {
     "name": "stdin",
     "output_type": "stream",
     "text": [
      "Enter numbers:  4 5 6\n"
     ]
    },
    {
     "name": "stdout",
     "output_type": "stream",
     "text": [
      "Squared numbers: [16, 25, 36]\n"
     ]
    }
   ],
   "source": [
    "def input_list(num):\n",
    "    return list(map(int, input(num).split()))\n",
    "numbers = input_list(\"Enter numbers: \")\n",
    "squared_numbers = list(map(lambda x: x ** 2, numbers))\n",
    "print(\"Squared numbers:\", squared_numbers)"
   ]
  },
  {
   "cell_type": "code",
   "execution_count": 7,
   "id": "5c8b6b3d-ac32-44e7-ad03-923272ed9645",
   "metadata": {},
   "outputs": [
    {
     "name": "stdin",
     "output_type": "stream",
     "text": [
      "Enter the base number:  4\n",
      "Enter the length of the list:  2\n"
     ]
    },
    {
     "name": "stdout",
     "output_type": "stream",
     "text": [
      "The powers of 4 raised to indices 0 to 1 are: [1, 4]\n"
     ]
    }
   ],
   "source": [
    "def calculate_power(base, exponent):\n",
    "    return base ** exponent\n",
    "base = int(input(\"Enter the base number: \"))\n",
    "length = int(input(\"Enter the length of the list: \"))\n",
    "indices = list(range(length))\n",
    "\n",
    "powers = list(map(lambda x: calculate_power(base, x), indices))\n",
    "print(f\"The powers of {base} raised to indices 0 to {length-1} are: {powers}\")"
   ]
  },
  {
   "cell_type": "code",
   "execution_count": 8,
   "id": "d2301aa7-f388-4ca5-b2b8-4fe48ea4c4dd",
   "metadata": {},
   "outputs": [
    {
     "name": "stdin",
     "output_type": "stream",
     "text": [
      "Enter a string:  aabbCCDdee\n"
     ]
    },
    {
     "name": "stdout",
     "output_type": "stream",
     "text": [
      "Uppercase characters: CDABDE\n",
      "Lowercase characters: cdabde\n"
     ]
    }
   ],
   "source": [
    "def input_string(prompt):\n",
    "    return input(prompt)\n",
    "user_input = input_string(\"Enter a string: \")\n",
    "unique_characters = set(user_input)\n",
    "sorted_unique_characters = sorted(unique_characters)\n",
    "uppercase_characters = list(map(lambda x: x.upper(), sorted_unique_characters))\n",
    "lowercase_characters = list(map(lambda x: x.lower(), sorted_unique_characters))\n",
    "print(\"Uppercase characters:\", ''.join(uppercase_characters))\n",
    "print(\"Lowercase characters:\", ''.join(lowercase_characters))"
   ]
  },
  {
   "cell_type": "code",
   "execution_count": 9,
   "id": "189d0eb8-0d21-4bcf-b262-b0f23cab3d02",
   "metadata": {},
   "outputs": [
    {
     "name": "stdin",
     "output_type": "stream",
     "text": [
      "Enter the elements of the first list (separated by spaces):  1 2 3 \n",
      "Enter the elements of the second list (separated by spaces):  4 5 6\n"
     ]
    },
    {
     "name": "stdout",
     "output_type": "stream",
     "text": [
      "Sum of the two lists: [5, 7, 9]\n",
      "Difference between the two lists: [-3, -3, -3]\n"
     ]
    }
   ],
   "source": [
    "def add(x, y):\n",
    "    return x + y\n",
    "def subtract(x, y):\n",
    "    return x - y\n",
    "list1 = list(map(int, input(\"Enter the elements of the first list (separated by spaces): \").split()))\n",
    "\n",
    "list2 = list(map(int, input(\"Enter the elements of the second list (separated by spaces): \").split()))\n",
    "\n",
    "if len(list1) != len(list2):\n",
    "    print(\"Error: Both lists must be of the same length.\")\n",
    "else:\n",
    "    sum_list = list(map(add, list1, list2))\n",
    "    difference_list = list(map(subtract, list1, list2))\n",
    "\n",
    "    print(f\"Sum of the two lists: {sum_list}\")\n",
    "    print(f\"Difference between the two lists: {difference_list}\")"
   ]
  },
  {
   "cell_type": "code",
   "execution_count": 10,
   "id": "b1e0e5c0-0c73-4ecd-b514-106637a36a19",
   "metadata": {},
   "outputs": [
    {
     "name": "stdout",
     "output_type": "stream",
     "text": [
      "List of strings from the given list: ['1', '2', '3', '4', '5']\n",
      "List of strings from the given tuple: ['6', '7', '8', '9', '10']\n",
      "Combined list of strings: ['1', '2', '3', '4', '5', '6', '7', '8', '9', '10']\n"
     ]
    }
   ],
   "source": [
    "def convert_to_strings(iterable):\n",
    "    return list(map(str, iterable))\n",
    "int_list = [1, 2, 3, 4, 5]\n",
    "int_tuple = (6, 7, 8, 9, 10)\n",
    "string_list_from_list = convert_to_strings(int_list)\n",
    "string_list_from_tuple = convert_to_strings(int_tuple)\n",
    "combined_string_list = string_list_from_list + string_list_from_tuple\n",
    "print(\"List of strings from the given list:\", string_list_from_list)\n",
    "print(\"List of strings from the given tuple:\", string_list_from_tuple)\n",
    "print(\"Combined list of strings:\", combined_string_list)"
   ]
  },
  {
   "cell_type": "code",
   "execution_count": null,
   "id": "eb3e6055-ae61-4163-a7cc-aa62200f8da5",
   "metadata": {},
   "outputs": [],
   "source": [
    "def compute_sum(array):\n",
    "    return sum(map(int, array)) \n",
    "\n",
    "array_input = input(\"Enter the elements of the array (separated by spaces): \")\n",
    "\n",
    "array = array_input.split()\n",
    "\n",
    "total_sum = compute_sum(array)\n",
    "\n",
    "print(f\"The sum of the elements in the array is: {total_sum}\")"
   ]
  }
 ],
 "metadata": {
  "kernelspec": {
   "display_name": "Python 3 (ipykernel)",
   "language": "python",
   "name": "python3"
  },
  "language_info": {
   "codemirror_mode": {
    "name": "ipython",
    "version": 3
   },
   "file_extension": ".py",
   "mimetype": "text/x-python",
   "name": "python",
   "nbconvert_exporter": "python",
   "pygments_lexer": "ipython3",
   "version": "3.12.3"
  }
 },
 "nbformat": 4,
 "nbformat_minor": 5
}
