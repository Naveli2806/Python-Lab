{
 "cells": [
  {
   "cell_type": "code",
   "execution_count": 11,
   "id": "b5000895-e363-4d8b-afa1-62b00334df94",
   "metadata": {},
   "outputs": [
    {
     "name": "stdout",
     "output_type": "stream",
     "text": [
      "Number of swaps: 9903\n",
      "Total time for sorting with 10000 elements: 0.09903 seconds\n",
      "Actual time taken for sorting process: 3.2098846435546875 seconds\n"
     ]
    }
   ],
   "source": [
    "import random\n",
    "import time\n",
    "\n",
    "num_count = 10000\n",
    "random_numbers = [random.randint(0, 100) for _ in range(num_count)]\n",
    "\n",
    "def selection_sort(arr):\n",
    "    n = len(arr)\n",
    "    swap_count = 0\n",
    "    for i in range(n - 1):\n",
    "        min_index = i\n",
    "        for j in range(i + 1, n):\n",
    "            if arr[j] < arr[min_index]:\n",
    "                min_index = j\n",
    "        if min_index != i:\n",
    "            arr[i], arr[min_index] = arr[min_index], arr[i]\n",
    "            swap_count += 1\n",
    "    return swap_count\n",
    "\n",
    "start_time = time.time()\n",
    "swaps = selection_sort(random_numbers)\n",
    "end_time = time.time()\n",
    "\n",
    "swap_time = 10**-5\n",
    "total_time = swaps * swap_time\n",
    "\n",
    "print(f\"Number of swaps: {swaps}\")\n",
    "print(f\"Total time for sorting with {num_count} elements: {total_time} seconds\")\n",
    "print(f\"Actual time taken for sorting process: {end_time - start_time} seconds\")\n",
    "\n"
   ]
  },
  {
   "cell_type": "code",
   "execution_count": 13,
   "id": "087830bb-4323-46ca-8cea-e3d6a3536f14",
   "metadata": {},
   "outputs": [
    {
     "name": "stdout",
     "output_type": "stream",
     "text": [
      "Target 15 not found.\n",
      "Linear search time: 0.0010404586791992188 seconds\n"
     ]
    }
   ],
   "source": [
    "import random\n",
    "import time\n",
    "\n",
    "num_count = 10\n",
    "random_numbers = [random.randint(0, 100) for _ in range(num_count)]\n",
    "\n",
    "def linear_search(arr, target):\n",
    "    for i in range(len(arr)):\n",
    "        if arr[i] == target:\n",
    "            return i\n",
    "    return -1\n",
    "\n",
    "target = random.randint(0, 100)\n",
    "\n",
    "start_time = time.time()\n",
    "search_index = linear_search(random_numbers, target)\n",
    "end_time = time.time()\n",
    "\n",
    "search_time = end_time - start_time\n",
    "\n",
    "if search_index != -1:\n",
    "    print(f\"Target {target} found at index {search_index}.\")\n",
    "else:\n",
    "    print(f\"Target {target} not found.\")\n",
    "\n",
    "print(f\"Linear search time: {search_time} seconds\")\n"
   ]
  },
  {
   "cell_type": "code",
   "execution_count": 15,
   "id": "9d8194ee-cd83-4a8e-8ade-b65b217bff6e",
   "metadata": {},
   "outputs": [
    {
     "name": "stdout",
     "output_type": "stream",
     "text": [
      "Target 53 not found.\n",
      "Binary search time: 0.0 seconds\n"
     ]
    }
   ],
   "source": [
    "import random\n",
    "import time\n",
    "\n",
    "num_count = 10\n",
    "random_numbers = [random.randint(0, 100) for _ in range(num_count)]\n",
    "\n",
    "def binary_search(arr, target):\n",
    "    low, high = 0, len(arr) - 1\n",
    "    while low <= high:\n",
    "        mid = (low + high) // 2\n",
    "        if arr[mid] == target:\n",
    "            return mid\n",
    "        elif arr[mid] < target:\n",
    "            low = mid + 1\n",
    "        else:\n",
    "            high = mid - 1\n",
    "    return -1\n",
    "\n",
    "random_numbers.sort()\n",
    "\n",
    "target = random.randint(0, 100)\n",
    "\n",
    "start_time = time.time()\n",
    "search_index = binary_search(random_numbers, target)\n",
    "end_time = time.time()\n",
    "\n",
    "search_time = end_time - start_time\n",
    "\n",
    "if search_index != -1:\n",
    "    print(f\"Target {target} found at index {search_index}.\")\n",
    "else:\n",
    "    print(f\"Target {target} not found.\")\n",
    "\n",
    "print(f\"Binary search time: {search_time} seconds\")\n",
    "\n"
   ]
  },
  {
   "cell_type": "code",
   "execution_count": 17,
   "id": "563544ca-3f82-48a6-a799-8774d9f5f011",
   "metadata": {},
   "outputs": [
    {
     "name": "stdout",
     "output_type": "stream",
     "text": [
      "Target 26 found at index 1.\n",
      "Binary search time: 0.000000 ms\n"
     ]
    }
   ],
   "source": [
    "import random\n",
    "import time\n",
    "\n",
    "num_count = 10\n",
    "random_numbers = [random.randint(0, 100) for _ in range(num_count)]\n",
    "\n",
    "def binary_search(arr, target):\n",
    "    low, high = 0, len(arr) - 1\n",
    "    while low <= high:\n",
    "        mid = (low + high) // 2\n",
    "        if arr[mid] == target:\n",
    "            return mid\n",
    "        elif arr[mid] < target:\n",
    "            low = mid + 1\n",
    "        else:\n",
    "            high = mid - 1\n",
    "    return -1\n",
    "\n",
    "random_numbers.sort()\n",
    "\n",
    "# Ensure target is within the list\n",
    "target = random.choice(random_numbers)\n",
    "\n",
    "start_time = time.time()\n",
    "search_index = binary_search(random_numbers, target)\n",
    "end_time = time.time()\n",
    "\n",
    "search_time = (end_time - start_time) * 1000  # Convert to milliseconds\n",
    "\n",
    "if search_index != -1:\n",
    "    print(f\"Target {target} found at index {search_index}.\")\n",
    "else:\n",
    "    print(f\"Target {target} not found.\")\n",
    "\n",
    "print(f\"Binary search time: {search_time:.6f} ms\")\n",
    "\n"
   ]
  },
  {
   "cell_type": "code",
   "execution_count": null,
   "id": "066bc106-fb5b-4f69-a2db-b3e9124d5512",
   "metadata": {},
   "outputs": [],
   "source": []
  }
 ],
 "metadata": {
  "kernelspec": {
   "display_name": "Python 3 (ipykernel)",
   "language": "python",
   "name": "python3"
  },
  "language_info": {
   "codemirror_mode": {
    "name": "ipython",
    "version": 3
   },
   "file_extension": ".py",
   "mimetype": "text/x-python",
   "name": "python",
   "nbconvert_exporter": "python",
   "pygments_lexer": "ipython3",
   "version": "3.12.4"
  }
 },
 "nbformat": 4,
 "nbformat_minor": 5
}
