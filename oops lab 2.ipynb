{
 "cells": [
  {
   "cell_type": "code",
   "execution_count": null,
   "id": "7869afdd-8aed-471b-81df-4c10e68e540b",
   "metadata": {},
   "outputs": [],
   "source": [
    "import math\n",
    "import cmath"
   ]
  },
  {
   "cell_type": "code",
   "execution_count": null,
   "id": "2dbcab35-cbe7-454e-ad18-b54f5e94385e",
   "metadata": {},
   "outputs": [
    {
     "name": "stdout",
     "output_type": "stream",
     "text": [
      "hello world\n"
     ]
    }
   ],
   "source": [
    "print(\"hello world\")\n"
   ]
  },
  {
   "cell_type": "code",
   "execution_count": null,
   "id": "1406353a-c911-4e91-8095-ae5e9c5b7560",
   "metadata": {},
   "outputs": [
    {
     "name": "stdout",
     "output_type": "stream",
     "text": [
      "enter any number 20\n"
     ]
    }
   ],
   "source": [
    "a= int(input('enter any number'))\n"
   ]
  },
  {
   "cell_type": "code",
   "execution_count": null,
   "id": "f9421bcd-f620-4ca4-acb0-b5de7b6d666d",
   "metadata": {},
   "outputs": [
    {
     "data": {
      "text/plain": [
       "int"
      ]
     },
     "execution_count": 19,
     "metadata": {},
     "output_type": "execute_result"
    }
   ],
   "source": [
    "type(a)\n"
   ]
  },
  {
   "cell_type": "code",
   "execution_count": null,
   "id": "95f66e6c-6d8b-4816-be0d-decb7ecd1544",
   "metadata": {},
   "outputs": [
    {
     "name": "stdout",
     "output_type": "stream",
     "text": [
      "enter float number 23.56\n"
     ]
    },
    {
     "data": {
      "text/plain": [
       "float"
      ]
     },
     "execution_count": 23,
     "metadata": {},
     "output_type": "execute_result"
    }
   ],
   "source": [
    "b=float(input('enter float number'))\n",
    "type(b)\n",
    "\n"
   ]
  },
  {
   "cell_type": "code",
   "execution_count": null,
   "id": "95156caf-f771-4de5-ab01-729e7514bf9d",
   "metadata": {},
   "outputs": [
    {
     "name": "stdout",
     "output_type": "stream",
     "text": [
      "enter boolean value true\n"
     ]
    },
    {
     "data": {
      "text/plain": [
       "bool"
      ]
     },
     "execution_count": 31,
     "metadata": {},
     "output_type": "execute_result"
    }
   ],
   "source": [
    "a= bool(input('enter boolean value'))\n",
    "type(a)\n"
   ]
  },
  {
   "cell_type": "code",
   "execution_count": null,
   "id": "36f7ff7e-3377-4fbe-8b9f-f618c95a3aee",
   "metadata": {},
   "outputs": [
    {
     "name": "stdout",
     "output_type": "stream",
     "text": [
      "46.16\n"
     ]
    }
   ],
   "source": [
    "a = 34.06\n",
    "b= 12.1\n",
    "print(round(a+b,2))\n"
   ]
  },
  {
   "cell_type": "code",
   "execution_count": null,
   "id": "438f8d8b-e062-4cdb-b31b-835ea950ded1",
   "metadata": {},
   "outputs": [
    {
     "name": "stdout",
     "output_type": "stream",
     "text": [
      "result: 46.16\n"
     ]
    }
   ],
   "source": [
    "a = 34.06\n",
    "b= 12.1\n",
    "result= a+b\n",
    "print(f\"result:{result: .2f}\")\n"
   ]
  },
  {
   "cell_type": "code",
   "execution_count": null,
   "id": "56a6c049-d419-4a60-b1d9-3143ed552919",
   "metadata": {},
   "outputs": [
    {
     "name": "stdout",
     "output_type": "stream",
     "text": [
      "20\n"
     ]
    }
   ],
   "source": [
    "print(a)\n"
   ]
  },
  {
   "cell_type": "code",
   "execution_count": null,
   "id": "a03a7a14-267e-41ad-aa70-4b0157bee377",
   "metadata": {},
   "outputs": [
    {
     "name": "stdout",
     "output_type": "stream",
     "text": [
      "30\n"
     ]
    }
   ],
   "source": [
    "a=10\n",
    "b=20\n",
    "c=a+b\n",
    "print(c)\n"
   ]
  },
  {
   "cell_type": "code",
   "execution_count": null,
   "id": "1a889ad5-a748-4780-b6ce-9f39e461c029",
   "metadata": {},
   "outputs": [
    {
     "data": {
      "text/plain": [
       "str"
      ]
     },
     "execution_count": 13,
     "metadata": {},
     "output_type": "execute_result"
    }
   ],
   "source": [
    "type(a)\n"
   ]
  },
  {
   "cell_type": "code",
   "execution_count": null,
   "id": "70f50401-45d2-40d9-bee7-959c31296f20",
   "metadata": {},
   "outputs": [
    {
     "name": "stdout",
     "output_type": "stream",
     "text": [
      "add: 8\n"
     ]
    }
   ],
   "source": [
    "a=3\n",
    "b=5\n",
    "print(\"add:\",a+b)"
   ]
  },
  {
   "cell_type": "code",
   "execution_count": null,
   "id": "95a2658d",
   "metadata": {},
   "outputs": [],
   "source": []
  }
 ],
 "metadata": {
  "kernelspec": {
   "display_name": "Python 3 (ipykernel)",
   "language": "python",
   "name": "python3"
  },
  "language_info": {
   "codemirror_mode": {
    "name": "ipython",
    "version": 3
   },
   "file_extension": ".py",
   "mimetype": "text/x-python",
   "name": "python",
   "nbconvert_exporter": "python",
   "pygments_lexer": "ipython3",
   "version": "3.12.4"
  }
 },
 "nbformat": 4,
 "nbformat_minor": 5
}
