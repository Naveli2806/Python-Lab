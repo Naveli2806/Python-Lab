{
 "cells": [
  {
   "cell_type": "code",
   "execution_count": 1,
   "id": "34435de2-1a4f-4772-bb6f-c08551bcf60c",
   "metadata": {},
   "outputs": [
    {
     "name": "stdin",
     "output_type": "stream",
     "text": [
      "Enter elements of the list separated by spaces:  1 2 3 4 5\n",
      "Enter an element to append:  3\n"
     ]
    },
    {
     "name": "stdout",
     "output_type": "stream",
     "text": [
      "List after append: [1, 2, 3, 4, 5, 3]\n"
     ]
    },
    {
     "name": "stdin",
     "output_type": "stream",
     "text": [
      "Enter elements to extend the list:  4\n"
     ]
    },
    {
     "name": "stdout",
     "output_type": "stream",
     "text": [
      "List after extend: [1, 2, 3, 4, 5, 3, 4]\n"
     ]
    },
    {
     "name": "stdin",
     "output_type": "stream",
     "text": [
      "Enter the index to insert an element:  2\n",
      "Enter the element to insert:  9\n"
     ]
    },
    {
     "name": "stdout",
     "output_type": "stream",
     "text": [
      "List after insert: [1, 2, 9, 3, 4, 5, 3, 4]\n"
     ]
    },
    {
     "name": "stdin",
     "output_type": "stream",
     "text": [
      "Enter the element to remove:  4\n"
     ]
    },
    {
     "name": "stdout",
     "output_type": "stream",
     "text": [
      "List after remove: [1, 2, 9, 3, 5, 3, 4]\n"
     ]
    }
   ],
   "source": [
    "my_list = list(map(int, input(\"Enter elements of the list separated by spaces: \").split()))\n",
    "my_list.append(int(input(\"Enter an element to append: \")))\n",
    "print(\"List after append:\", my_list)\n",
    "my_list.extend(map(int, input(\"Enter elements to extend the list: \").split()))\n",
    "print(\"List after extend:\", my_list)\n",
    "index = int(input(\"Enter the index to insert an element: \"))\n",
    "element = int(input(\"Enter the element to insert: \"))\n",
    "my_list.insert(index, element)\n",
    "print(\"List after insert:\", my_list)\n",
    "element = int(input(\"Enter the element to remove: \"))\n",
    "if element in my_list:\n",
    "    my_list.remove(element)\n",
    "    print(\"List after remove:\", my_list)\n",
    "else:\n",
    "    print(\"Element not found.\")\n",
    "    "
   ]
  },
  {
   "cell_type": "code",
   "execution_count": 2,
   "id": "66030215-2809-4c5b-b858-9ba1e82d71a9",
   "metadata": {},
   "outputs": [
    {
     "name": "stdin",
     "output_type": "stream",
     "text": [
      "Enter elements of the list separated by spaces:  5 6 7 8 9\n"
     ]
    },
    {
     "name": "stdout",
     "output_type": "stream",
     "text": [
      "Original list: [5, 6, 7, 8, 9]\n",
      "After appending 100: [5, 6, 7, 8, 9, 100]\n",
      "After sorting: [5, 6, 7, 8, 9, 100]\n",
      "After reversing: [100, 9, 8, 7, 6, 5]\n"
     ]
    }
   ],
   "source": [
    "def process_list(my_list):\n",
    "    print(\"Original list:\", my_list)\n",
    "    my_list.append(100)  \n",
    "    print(\"After appending 100:\", my_list)\n",
    "    my_list.sort()  \n",
    "    print(\"After sorting:\", my_list)\n",
    "    my_list.reverse() \n",
    "    print(\"After reversing:\", my_list)\n",
    "my_list = list(map(int, input(\"Enter elements of the list separated by spaces: \").split()))\n",
    "process_list(my_list)"
   ]
  },
  {
   "cell_type": "code",
   "execution_count": 3,
   "id": "e4194ad9-c25b-4bd7-8041-f84f963d4555",
   "metadata": {},
   "outputs": [
    {
     "name": "stdin",
     "output_type": "stream",
     "text": [
      "Enter numbers separated by spaces:  7 4 6 9\n"
     ]
    },
    {
     "name": "stdout",
     "output_type": "stream",
     "text": [
      "Cubes of the elements: [343, 64, 216, 729]\n"
     ]
    }
   ],
   "source": [
    "def cube_of_elements(*args):\n",
    "    cubes = [x ** 3 for x in args]  \n",
    "    return cubes\n",
    "numbers = list(map(int, input(\"Enter numbers separated by spaces: \").split()))\n",
    "result = cube_of_elements(*numbers) \n",
    "print(\"Cubes of the elements:\", result)"
   ]
  },
  {
   "cell_type": "code",
   "execution_count": 5,
   "id": "cb9f241a-72a0-4ba6-b4f1-8cde93a17f76",
   "metadata": {},
   "outputs": [
    {
     "name": "stdin",
     "output_type": "stream",
     "text": [
      "Enter a string:  COmE hoMe\n"
     ]
    },
    {
     "name": "stdout",
     "output_type": "stream",
     "text": [
      "Number of uppercase letters: 4\n",
      "Number of lowercase letters: 4\n"
     ]
    }
   ],
   "source": [
    "def count_case_letters(s):\n",
    "    uppercase_count = sum(1 for char in s if char.isupper())\n",
    "    lowercase_count = sum(1 for char in s if char.islower())\n",
    "    \n",
    "    print(\"Number of uppercase letters:\", uppercase_count)\n",
    "    print(\"Number of lowercase letters:\", lowercase_count)\n",
    "user_input = input(\"Enter a string: \")\n",
    "count_case_letters(user_input)"
   ]
  },
  {
   "cell_type": "code",
   "execution_count": 9,
   "id": "7722f214-33e5-4b3a-b680-b88d6a1d8edc",
   "metadata": {},
   "outputs": [],
   "source": [
    "def tower_of_hanoi(n, source, target, auxiliary):\n",
    "    if n == 1:\n",
    "        print(f\"Move disk 1 from {source} to {target}\")\n",
    "        return\n",
    "    tower_of_hanoi(n - 1, source, auxiliary, target)\n",
    "    print(f\"Move disk {n} from {source} to {target}\")\n",
    "    tower_of_hanoi(n - 1, auxiliary, target, source)"
   ]
  },
  {
   "cell_type": "code",
   "execution_count": 11,
   "id": "b9bd9118-e440-4307-b158-5bb85c45f521",
   "metadata": {},
   "outputs": [
    {
     "name": "stdin",
     "output_type": "stream",
     "text": [
      "Enter the first number:  3 8\n"
     ]
    },
    {
     "ename": "ValueError",
     "evalue": "invalid literal for int() with base 10: '3 8'",
     "output_type": "error",
     "traceback": [
      "\u001b[1;31m---------------------------------------------------------------------------\u001b[0m",
      "\u001b[1;31mValueError\u001b[0m                                Traceback (most recent call last)",
      "Cell \u001b[1;32mIn[11], line 4\u001b[0m\n\u001b[0;32m      2\u001b[0m \u001b[38;5;28;01mdef\u001b[39;00m \u001b[38;5;21mcompute_gcd\u001b[39m(a, b):\n\u001b[0;32m      3\u001b[0m     \u001b[38;5;28;01mreturn\u001b[39;00m math\u001b[38;5;241m.\u001b[39mgcd(a, b)\n\u001b[1;32m----> 4\u001b[0m num1 \u001b[38;5;241m=\u001b[39m \u001b[38;5;28;43mint\u001b[39;49m\u001b[43m(\u001b[49m\u001b[38;5;28;43minput\u001b[39;49m\u001b[43m(\u001b[49m\u001b[38;5;124;43m\"\u001b[39;49m\u001b[38;5;124;43mEnter the first number: \u001b[39;49m\u001b[38;5;124;43m\"\u001b[39;49m\u001b[43m)\u001b[49m\u001b[43m)\u001b[49m\n\u001b[0;32m      5\u001b[0m num2 \u001b[38;5;241m=\u001b[39m \u001b[38;5;28mint\u001b[39m(\u001b[38;5;28minput\u001b[39m(\u001b[38;5;124m\"\u001b[39m\u001b[38;5;124mEnter the second number: \u001b[39m\u001b[38;5;124m\"\u001b[39m))\n\u001b[0;32m      7\u001b[0m gcd \u001b[38;5;241m=\u001b[39m compute_gcd(num1, num2)\n",
      "\u001b[1;31mValueError\u001b[0m: invalid literal for int() with base 10: '3 8'"
     ]
    }
   ],
   "source": [
    "import math\n",
    "def compute_gcd(a, b):\n",
    "    return math.gcd(a, b)\n",
    "num1 = int(input(\"Enter the first number: \"))\n",
    "num2 = int(input(\"Enter the second number: \"))\n",
    "\n",
    "gcd = compute_gcd(num1, num2)\n",
    "print(f\"The GCD of {num1} and {num2} is: {gcd}\")"
   ]
  },
  {
   "cell_type": "code",
   "execution_count": null,
   "id": "2b2f16a9-0aac-4285-a160-bbbfe6733bf5",
   "metadata": {},
   "outputs": [],
   "source": []
  }
 ],
 "metadata": {
  "kernelspec": {
   "display_name": "Python 3 (ipykernel)",
   "language": "python",
   "name": "python3"
  },
  "language_info": {
   "codemirror_mode": {
    "name": "ipython",
    "version": 3
   },
   "file_extension": ".py",
   "mimetype": "text/x-python",
   "name": "python",
   "nbconvert_exporter": "python",
   "pygments_lexer": "ipython3",
   "version": "3.12.3"
  }
 },
 "nbformat": 4,
 "nbformat_minor": 5
}
