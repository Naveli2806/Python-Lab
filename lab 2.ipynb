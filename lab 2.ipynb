{
 "cells": [
  {
   "cell_type": "code",
   "execution_count": 1,
   "id": "8120095d-28dd-4f19-ae64-b47c7643b9ad",
   "metadata": {},
   "outputs": [
    {
     "name": "stdin",
     "output_type": "stream",
     "text": [
      "Enter an integer:  25\n",
      "Enter a float number:  4\n",
      "Enter a string:  5\n",
      "Enter a boolean (True/False):  False\n"
     ]
    }
   ],
   "source": [
    "int_var = int(input(\"Enter an integer: \"))\n",
    "float_var = float(input(\"Enter a float number: \"))\n",
    "str_var = input(\"Enter a string: \")\n",
    "bool_var = input(\"Enter a boolean (True/False): \").capitalize() == 'True'\n"
   ]
  },
  {
   "cell_type": "code",
   "execution_count": 2,
   "id": "db654343-3fe7-4251-ac2d-2df11a2bf126",
   "metadata": {},
   "outputs": [
    {
     "name": "stdin",
     "output_type": "stream",
     "text": [
      "Enter the first number:  5\n",
      "Enter the second number:  2\n"
     ]
    },
    {
     "name": "stdout",
     "output_type": "stream",
     "text": [
      "The result of 5.0 divided by 2.0 is: 2.50\n"
     ]
    }
   ],
   "source": [
    "num1 = float(input(\"Enter the first number: \"))\n",
    "num2 = float(input(\"Enter the second number: \"))\n",
    "if num2 != 0:\n",
    "    result = num1 / num2\n",
    "    print(f\"The result of {num1} divided by {num2} is: {result:.2f}\")\n",
    "else:\n",
    "    print(\"Error: Division by zero is not allowed.\")"
   ]
  },
  {
   "cell_type": "code",
   "execution_count": 3,
   "id": "3bfd29ce-94e6-46f3-9aeb-f8c73893ab71",
   "metadata": {},
   "outputs": [
    {
     "name": "stdin",
     "output_type": "stream",
     "text": [
      "Enter the first number:  2\n",
      "Enter the second number:  5\n"
     ]
    },
    {
     "name": "stdout",
     "output_type": "stream",
     "text": [
      "\n",
      "The average of 2.0 and 5.0 is: 3.50\n",
      "The deviation of 2.0 from the average is: -1.50\n",
      "The deviation of 5.0 from the average is: 1.50\n"
     ]
    }
   ],
   "source": [
    "num1 = float(input(\"Enter the first number: \"))\n",
    "num2 = float(input(\"Enter the second number: \"))\n",
    "average = (num1 + num2) / 2\n",
    "deviation1 = num1 - average\n",
    "deviation2 = num2 - average\n",
    "print(f\"\\nThe average of {num1} and {num2} is: {average:.2f}\")\n",
    "print(f\"The deviation of {num1} from the average is: {deviation1:.2f}\")\n",
    "print(f\"The deviation of {num2} from the average is: {deviation2:.2f}\")"
   ]
  },
  {
   "cell_type": "code",
   "execution_count": 4,
   "id": "ff27160c-b3f8-4215-9856-3574e91824d0",
   "metadata": {},
   "outputs": [
    {
     "name": "stdin",
     "output_type": "stream",
     "text": [
      "Enter the first number:  6\n",
      "Enter the second number:  8\n"
     ]
    },
    {
     "name": "stdout",
     "output_type": "stream",
     "text": [
      "\n",
      "The average of 6.0 and 8.0 is: 7.00\n",
      "The deviation of 6.0 from the average is: -1.00\n",
      "The deviation of 8.0 from the average is: 1.00\n"
     ]
    }
   ],
   "source": [
    "num1 = float(input(\"Enter the first number: \"))\n",
    "num2 = float(input(\"Enter the second number: \"))\n",
    "\n",
    "average = (num1 + num2) / 2\n",
    "deviation1 = num1 - average\n",
    "deviation2 = num2 - average\n",
    "\n",
    "print(f\"\\nThe average of {num1} and {num2} is: {average:.2f}\")\n",
    "print(f\"The deviation of {num1} from the average is: {deviation1:.2f}\")\n",
    "print(f\"The deviation of {num2} from the average is: {deviation2:.2f}\")"
   ]
  },
  {
   "cell_type": "code",
   "execution_count": null,
   "id": "d419cbbe-40a1-4251-b479-52027a513097",
   "metadata": {},
   "outputs": [],
   "source": []
  }
 ],
 "metadata": {
  "kernelspec": {
   "display_name": "Python 3 (ipykernel)",
   "language": "python",
   "name": "python3"
  },
  "language_info": {
   "codemirror_mode": {
    "name": "ipython",
    "version": 3
   },
   "file_extension": ".py",
   "mimetype": "text/x-python",
   "name": "python",
   "nbconvert_exporter": "python",
   "pygments_lexer": "ipython3",
   "version": "3.12.3"
  }
 },
 "nbformat": 4,
 "nbformat_minor": 5
}
