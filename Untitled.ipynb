{
 "cells": [
  {
   "cell_type": "code",
   "execution_count": 15,
   "id": "f0487245-c942-48d8-9f1d-bda02503b0f9",
   "metadata": {},
   "outputs": [
    {
     "name": "stdin",
     "output_type": "stream",
     "text": [
      "enter name: naveli\n",
      "enter reg.no: 23fe10\n",
      "enter fathers name: mohit\n"
     ]
    },
    {
     "name": "stdout",
     "output_type": "stream",
     "text": [
      "naveli 23fe10 mohit\n"
     ]
    }
   ],
   "source": [
    "name = input(\"enter name:\")\n",
    "reg_no = input(\"enter reg.no:\")\n",
    "father_name = input(\"enter fathers name:\")\n",
    "your_info = f\"{name} {reg_no} {father_name}\"\n",
    "print(your_info)\n"
   ]
  },
  {
   "cell_type": "code",
   "execution_count": null,
   "id": "af3be939-e07c-4e5b-aca4-228f7a49e448",
   "metadata": {},
   "outputs": [],
   "source": [
    "def is_prime(num1):\n",
    "if(num1<=1):\n",
    "    return False\n",
    "    for i in range(2,num1):\n",
    "        if(num1%==0):\n",
    "            return False\n",
    "            return True\n"
   ]
  }
 ],
 "metadata": {
  "kernelspec": {
   "display_name": "Python 3 (ipykernel)",
   "language": "python",
   "name": "python3"
  },
  "language_info": {
   "codemirror_mode": {
    "name": "ipython",
    "version": 3
   },
   "file_extension": ".py",
   "mimetype": "text/x-python",
   "name": "python",
   "nbconvert_exporter": "python",
   "pygments_lexer": "ipython3",
   "version": "3.12.4"
  }
 },
 "nbformat": 4,
 "nbformat_minor": 5
}
