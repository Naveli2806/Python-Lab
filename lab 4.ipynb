{
 "cells": [
  {
   "cell_type": "code",
   "execution_count": 1,
   "id": "454ae334-113e-474b-9c70-1d7db5341c36",
   "metadata": {},
   "outputs": [
    {
     "name": "stdin",
     "output_type": "stream",
     "text": [
      "enter a number: 43\n"
     ]
    },
    {
     "name": "stdout",
     "output_type": "stream",
     "text": [
      "43 is not a disarium number\n"
     ]
    }
   ],
   "source": [
    "def disarium_num(num):\n",
    "    temp=num\n",
    "    sum=0\n",
    "    position=1\n",
    "\n",
    "    while temp>0:\n",
    "        digit=temp%10\n",
    "        sum+=digit**position\n",
    "        temp//=10\n",
    "        position+=1\n",
    "    \n",
    "    return sum ==num\n",
    "num= int(input(\"enter a number:\"))\n",
    "result = disarium_num(num)\n",
    "if result:\n",
    "    print(num,\"is a disarium number\")\n",
    "else:\n",
    "    print(num, \"is not a disarium number\")"
   ]
  },
  {
   "cell_type": "code",
   "execution_count": 2,
   "id": "e58984e7-ee39-434e-a236-16386432faa4",
   "metadata": {},
   "outputs": [
    {
     "name": "stdin",
     "output_type": "stream",
     "text": [
      "enter a number: 57\n"
     ]
    },
    {
     "name": "stdout",
     "output_type": "stream",
     "text": [
      "57 is not a harshad number\n"
     ]
    }
   ],
   "source": [
    "num=int(input(\"enter a number:\"))\n",
    "rem=sum=0\n",
    "n=num;\n",
    "while(num>0):\n",
    "    rem=num%10;\n",
    "    sum=sum+rem;\n",
    "    num =num//10;\n",
    "if(n%sum==0):\n",
    "        print(n,\"is a harshad number\");\n",
    "else:\n",
    "        print(n,\"is not a harshad number\");\n"
   ]
  },
  {
   "cell_type": "code",
   "execution_count": 3,
   "id": "0b5c57fb-7601-4e44-b873-7000a94f1a8c",
   "metadata": {},
   "outputs": [
    {
     "name": "stdout",
     "output_type": "stream",
     "text": [
      "1\n",
      "2\n",
      "3\n",
      "4\n",
      "5\n",
      "6\n",
      "7\n",
      "8\n",
      "9\n",
      "153\n",
      "370\n",
      "371\n",
      "407\n"
     ]
    }
   ],
   "source": [
    "def is_armstrong(num):\n",
    "    size=len(str(num))\n",
    "    hold=num\n",
    "    sum=0\n",
    "    while(hold>0):\n",
    "         digit=hold%10\n",
    "         sum+=digit**size\n",
    "         hold//=10\n",
    "    return sum == num\n",
    "for num in range(1,1001):\n",
    "    if is_armstrong(num):\n",
    "      print(num)"
   ]
  },
  {
   "cell_type": "code",
   "execution_count": 4,
   "id": "99250755-bf1e-490a-8aac-5fe1b1d4e99a",
   "metadata": {},
   "outputs": [
    {
     "name": "stdin",
     "output_type": "stream",
     "text": [
      "Enter the base (X):  5\n",
      "Enter the exponent (n):  3\n"
     ]
    },
    {
     "name": "stdout",
     "output_type": "stream",
     "text": [
      "The value of 5.0 raised to the power of 3 is: 125.0\n"
     ]
    }
   ],
   "source": [
    "def compute_power(x, n):\n",
    "    return x ** n\n",
    "base = float(input(\"Enter the base (X): \"))\n",
    "exponent = int(input(\"Enter the exponent (n): \"))\n",
    "\n",
    "result = compute_power(base, exponent)\n",
    "\n",
    "print(f\"The value of {base} raised to the power of {exponent} is: {result}\")"
   ]
  },
  {
   "cell_type": "code",
   "execution_count": 5,
   "id": "89688e50-cccb-4996-9281-418f94dfcdc1",
   "metadata": {},
   "outputs": [
    {
     "name": "stdin",
     "output_type": "stream",
     "text": [
      "Enter the number of terms in the Fibonacci series:  7\n"
     ]
    },
    {
     "name": "stdout",
     "output_type": "stream",
     "text": [
      "The Fibonacci series with 7 terms is: [0, 1, 1, 2, 3, 5, 8]\n"
     ]
    }
   ],
   "source": [
    "def generate_fibonacci(n):\n",
    "    fibonacci_series = []\n",
    "    a, b = 0, 1 \n",
    "    \n",
    "    for _ in range(n):\n",
    "        fibonacci_series.append(a)  \n",
    "        a, b = b, a + b  \n",
    "    \n",
    "    return fibonacci_series\n",
    "\n",
    "num_terms = int(input(\"Enter the number of terms in the Fibonacci series: \"))\n",
    "\n",
    "fibonacci_sequence = generate_fibonacci(num_terms)\n",
    "print(f\"The Fibonacci series with {num_terms} terms is: {fibonacci_sequence}\")"
   ]
  },
  {
   "cell_type": "code",
   "execution_count": 6,
   "id": "de1a6fad-b46d-4991-9a43-384967b18200",
   "metadata": {},
   "outputs": [
    {
     "name": "stdin",
     "output_type": "stream",
     "text": [
      "Enter a number to reverse:  456\n"
     ]
    },
    {
     "name": "stdout",
     "output_type": "stream",
     "text": [
      "The reverse of 456 is: 654\n"
     ]
    }
   ],
   "source": [
    "def reverse_number(num):\n",
    "    reversed_num = int(str(num)[::-1])\n",
    "    return reversed_num\n",
    "\n",
    "number = int(input(\"Enter a number to reverse: \"))\n",
    "reversed_result = reverse_number(number)\n",
    "\n",
    "print(f\"The reverse of {number} is: {reversed_result}\")"
   ]
  },
  {
   "cell_type": "code",
   "execution_count": 7,
   "id": "eef99ad4-3116-439f-afa6-2741fd0e7d75",
   "metadata": {},
   "outputs": [
    {
     "name": "stdin",
     "output_type": "stream",
     "text": [
      "Enter a number to check if it's a perfect number:  53\n"
     ]
    },
    {
     "name": "stdout",
     "output_type": "stream",
     "text": [
      "53 is not a perfect number.\n"
     ]
    }
   ],
   "source": [
    "def is_perfect_number(num):\n",
    "    if num <= 1:\n",
    "        return False  \n",
    "    \n",
    "    divisors_sum = 0\n",
    "    for i in range(1, num):\n",
    "        if num % i == 0:\n",
    "            divisors_sum += i\n",
    "\n",
    "    return divisors_sum == num\n",
    "number = int(input(\"Enter a number to check if it's a perfect number: \"))\n",
    "if is_perfect_number(number):\n",
    "    print(f\"{number} is a perfect number.\")\n",
    "else:\n",
    "    print(f\"{number} is not a perfect number.\")"
   ]
  },
  {
   "cell_type": "code",
   "execution_count": 8,
   "id": "59c391b7-85aa-44ce-b1a7-28b0959a3be9",
   "metadata": {},
   "outputs": [
    {
     "name": "stdout",
     "output_type": "stream",
     "text": [
      "1\n",
      "1 2\n",
      "1 2 3\n",
      "1 2 3 4\n",
      "1 2 3 4 5\n"
     ]
    }
   ],
   "source": [
    "def display_pattern(n):\n",
    "    for i in range(1, n + 1):\n",
    "        line = ' '.join(str(num) for num in range(1, i + 1))\n",
    "        print(line)\n",
    "num_rows = 5\n",
    "display_pattern(num_rows)"
   ]
  },
  {
   "cell_type": "code",
   "execution_count": 9,
   "id": "b120e88d-8d88-446f-a646-7d4651f15ecc",
   "metadata": {},
   "outputs": [
    {
     "name": "stdout",
     "output_type": "stream",
     "text": [
      "1\n",
      "2 2\n",
      "3 3 3\n",
      "4 4 4 4\n",
      "5 5 5 5 5\n"
     ]
    }
   ],
   "source": [
    "def display_pattern(n):\n",
    "    for i in range(1, n + 1):\n",
    "        line = ' '.join(str(i) for _ in range(i))\n",
    "        print(line)\n",
    "num_rows = 5\n",
    "display_pattern(num_rows)"
   ]
  },
  {
   "cell_type": "code",
   "execution_count": 10,
   "id": "c2c05249-6461-4f66-b9a3-bc31be15e9f8",
   "metadata": {},
   "outputs": [
    {
     "name": "stdout",
     "output_type": "stream",
     "text": [
      "A\n",
      "B B\n",
      "C C C\n",
      "D D D D\n",
      "E E E E E\n"
     ]
    }
   ],
   "source": [
    "def display_pattern(n):\n",
    "    for i in range(n):\n",
    "        char = chr(65 + i) \n",
    "        line = ' '.join(char for _ in range(i + 1))\n",
    "        print(line)\n",
    "num_rows = 5\n",
    "\n",
    "# Display the pattern\n",
    "display_pattern(num_rows)"
   ]
  },
  {
   "cell_type": "code",
   "execution_count": 11,
   "id": "a397ea76-4397-4e7b-8cd5-8afc3ea9d397",
   "metadata": {},
   "outputs": [
    {
     "name": "stdout",
     "output_type": "stream",
     "text": [
      "* * * * *\n",
      "* * * *\n",
      "* * *\n",
      "* *\n",
      "*\n"
     ]
    }
   ],
   "source": [
    "def display_pattern(n):\n",
    "    for i in range(n, 0, -1): \n",
    "        line = '* ' * i  \n",
    "        print(line.strip())  \n",
    "num_rows = 5\n",
    "\n",
    "display_pattern(num_rows)"
   ]
  },
  {
   "cell_type": "code",
   "execution_count": 12,
   "id": "841b8187-66d3-49a6-ad59-48090e1d8672",
   "metadata": {},
   "outputs": [
    {
     "name": "stdout",
     "output_type": "stream",
     "text": [
      "1 2 3 4 5\n",
      "1 2 3 4\n",
      "1 2 3\n",
      "1 2\n",
      "1\n"
     ]
    }
   ],
   "source": [
    "def display_pattern(n):\n",
    "    for i in range(n, 0, -1):  \n",
    "        line = ' '.join(str(num) for num in range(1, i + 1))\n",
    "        print(line)\n",
    "num_rows = 5\n",
    "\n",
    "display_pattern(num_rows)"
   ]
  },
  {
   "cell_type": "code",
   "execution_count": 13,
   "id": "59344bd4-66d0-4c8c-87f9-19dd548ba3b2",
   "metadata": {},
   "outputs": [
    {
     "name": "stdout",
     "output_type": "stream",
     "text": [
      "*\n",
      "* * *\n",
      "* * * * *\n",
      "* * * * * * *\n",
      "* * * * * * * * *\n"
     ]
    }
   ],
   "source": [
    "def display_pattern(n):\n",
    "    for i in range(1, n + 1): \n",
    "        line = '* ' * (2 * i - 1)  \n",
    "        print(line.strip())  \n",
    "num_rows = 5\n",
    "\n",
    "display_pattern(num_rows)"
   ]
  },
  {
   "cell_type": "code",
   "execution_count": 14,
   "id": "13a7c3c7-9778-4095-99a9-09393690cab5",
   "metadata": {},
   "outputs": [
    {
     "name": "stdout",
     "output_type": "stream",
     "text": [
      "1\n",
      "2 3 2\n",
      "3 4 5 4 3\n",
      "4 5 6 7 6 5 4\n",
      "5 6 7 8 9 8 7 6 5\n"
     ]
    }
   ],
   "source": [
    "def display_pattern(n):\n",
    "    for i in range(1, n + 1):\n",
    "        increasing_part = [str(num) for num in range(i, i + i)]\n",
    "        decreasing_part = increasing_part[-2::-1] \n",
    "        line = ' '.join(increasing_part + decreasing_part)\n",
    "        print(line)\n",
    "num_rows = 5\n",
    "\n",
    "display_pattern(num_rows)"
   ]
  },
  {
   "cell_type": "code",
   "execution_count": 15,
   "id": "54ddee99-ba6c-4541-82d7-14cd6e2804e6",
   "metadata": {},
   "outputs": [
    {
     "name": "stdout",
     "output_type": "stream",
     "text": [
      "1\n",
      "1 1\n",
      "1 2 1\n",
      "1 3 3 1\n",
      "1 4 6 4 1\n",
      "1 5 10 10 5 1\n"
     ]
    }
   ],
   "source": [
    "def display_pascals_triangle(n):\n",
    "    triangle = [] \n",
    "    for i in range(n):\n",
    "        row = [1]  \n",
    "        if triangle: \n",
    "            last_row = triangle[-1] \n",
    "            row.extend([last_row[j] + last_row[j + 1] for j in range(len(last_row) - 1)])\n",
    "            row.append(1) \n",
    "            \n",
    "        triangle.append(row)\n",
    "    for row in triangle:\n",
    "        print(' '.join(map(str, row)))\n",
    "num_rows = 6\n",
    "display_pascals_triangle(num_rows)"
   ]
  },
  {
   "cell_type": "code",
   "execution_count": null,
   "id": "56e6fa24-70e6-4197-8595-437d2b2ff00c",
   "metadata": {},
   "outputs": [],
   "source": []
  }
 ],
 "metadata": {
  "kernelspec": {
   "display_name": "Python 3 (ipykernel)",
   "language": "python",
   "name": "python3"
  },
  "language_info": {
   "codemirror_mode": {
    "name": "ipython",
    "version": 3
   },
   "file_extension": ".py",
   "mimetype": "text/x-python",
   "name": "python",
   "nbconvert_exporter": "python",
   "pygments_lexer": "ipython3",
   "version": "3.12.3"
  }
 },
 "nbformat": 4,
 "nbformat_minor": 5
}
