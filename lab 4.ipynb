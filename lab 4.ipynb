{
 "cells": [
  {
   "cell_type": "code",
   "execution_count": 15,
   "id": "cdbf9820-0d48-4bfc-a858-4c76951a7c79",
   "metadata": {},
   "outputs": [
    {
     "name": "stdin",
     "output_type": "stream",
     "text": [
      "enter a number: 75\n"
     ]
    },
    {
     "name": "stdout",
     "output_type": "stream",
     "text": [
      "75 is not a disarium number\n"
     ]
    }
   ],
   "source": [
    "def disarium_num(num):\n",
    "    temp=num\n",
    "    sum=0\n",
    "    position=1\n",
    "\n",
    "    while temp>0:\n",
    "        digit=temp%10\n",
    "        sum+=digit**position\n",
    "        temp//=10\n",
    "        position+=1\n",
    "    \n",
    "    return sum ==num\n",
    "num= int(input(\"enter a number:\"))\n",
    "result = disarium_num(num)\n",
    "if result:\n",
    "    print(num,\"is a disarium number\")\n",
    "else:\n",
    "    print(num, \"is not a disarium number\")"
   ]
  },
  {
   "cell_type": "code",
   "execution_count": 19,
   "id": "4b2ac86e-a351-452e-a69d-0e09c3a4fd87",
   "metadata": {},
   "outputs": [
    {
     "name": "stdin",
     "output_type": "stream",
     "text": [
      "enter a number: 45\n"
     ]
    },
    {
     "name": "stdout",
     "output_type": "stream",
     "text": [
      "45 is a harshad number\n"
     ]
    }
   ],
   "source": [
    "num=int(input(\"enter a number:\"))\n",
    "rem=sum=0\n",
    "n=num;\n",
    "while(num>0):\n",
    "    rem=num%10;\n",
    "    sum=sum+rem;\n",
    "    num =num//10;\n",
    "if(n%sum==0):\n",
    "        print(n,\"is a harshad number\");\n",
    "else:\n",
    "        print(n,\"is not a harshad number\");"
   ]
  },
  {
   "cell_type": "code",
   "execution_count": 27,
   "id": "74c098e1-2e0b-46f1-b0d7-fb4f84611706",
   "metadata": {},
   "outputs": [
    {
     "name": "stdout",
     "output_type": "stream",
     "text": [
      "1\n",
      "2\n",
      "3\n",
      "4\n",
      "5\n",
      "6\n",
      "7\n",
      "8\n",
      "9\n",
      "153\n",
      "370\n",
      "371\n",
      "407\n"
     ]
    }
   ],
   "source": [
    "def is_armstrong(num):\n",
    "    size=len(str(num))\n",
    "    hold=num\n",
    "    sum=0\n",
    "    while(hold>0):\n",
    "         digit=hold%10\n",
    "         sum+=digit**size\n",
    "         hold//=10\n",
    "    return sum == num\n",
    "for num in range(1,1001):\n",
    "    if is_armstrong(num):\n",
    "      print(num)"
   ]
  },
  {
   "cell_type": "code",
   "execution_count": null,
   "id": "0ca9bb91-579d-44a9-a869-d496bf842c24",
   "metadata": {},
   "outputs": [],
   "source": []
  }
 ],
 "metadata": {
  "kernelspec": {
   "display_name": "Python 3 (ipykernel)",
   "language": "python",
   "name": "python3"
  },
  "language_info": {
   "codemirror_mode": {
    "name": "ipython",
    "version": 3
   },
   "file_extension": ".py",
   "mimetype": "text/x-python",
   "name": "python",
   "nbconvert_exporter": "python",
   "pygments_lexer": "ipython3",
   "version": "3.12.4"
  }
 },
 "nbformat": 4,
 "nbformat_minor": 5
}
